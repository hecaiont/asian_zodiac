{
 "cells": [
  {
   "cell_type": "markdown",
   "id": "a5eeb5fd",
   "metadata": {},
   "source": [
    "Asian Zodiac\n",
    "\n",
    "A system of twelve animals widely used since ancient times in the East known as the Chineze zodiac. Developed as a calculation method used for date expression in Korea.\n",
    "\n",
    "Developed for calculations used in traditional brewing in Korea.\n",
    "\n",
    "-\n",
    "\n",
    "Asian Zodiac\n",
    "\n",
    "Chineze zodiac으로 알려진 동양에서 오래전부터 널리 사용되는 열두 동물로 나타낸 체계. 한국에서 날짜 표현에 사용하는 계산법으로 개발함.\n",
    "\n",
    "한국에서 전통주 양조에 쓰는 계산을 위해 개발함."
   ]
  },
  {
   "cell_type": "markdown",
   "id": "9fd22c8b",
   "metadata": {},
   "source": [
    "참조"
   ]
  },
  {
   "cell_type": "markdown",
   "id": "9b1cc976",
   "metadata": {},
   "source": [
    "https://echotop.tistory.com/31"
   ]
  },
  {
   "cell_type": "markdown",
   "id": "44add9a5",
   "metadata": {},
   "source": [
    "https://bustar.tistory.com/279"
   ]
  },
  {
   "cell_type": "markdown",
   "id": "5fe43db0",
   "metadata": {},
   "source": [
    "https://m.blog.naver.com/ksh17141715/222270302830"
   ]
  },
  {
   "cell_type": "code",
   "execution_count": 1,
   "id": "c3f42778",
   "metadata": {
    "ExecuteTime": {
     "end_time": "2022-05-23T17:54:14.692116Z",
     "start_time": "2022-05-23T17:54:14.678119Z"
    }
   },
   "outputs": [],
   "source": [
    "import math"
   ]
  },
  {
   "cell_type": "code",
   "execution_count": 2,
   "id": "14997edb",
   "metadata": {
    "ExecuteTime": {
     "end_time": "2022-05-23T17:54:14.698651Z",
     "start_time": "2022-05-23T17:54:14.694119Z"
    }
   },
   "outputs": [],
   "source": [
    "import time"
   ]
  },
  {
   "cell_type": "code",
   "execution_count": null,
   "id": "4e972037",
   "metadata": {},
   "outputs": [],
   "source": []
  },
  {
   "cell_type": "code",
   "execution_count": 3,
   "id": "6a80f524",
   "metadata": {
    "ExecuteTime": {
     "end_time": "2022-05-23T17:54:14.718540Z",
     "start_time": "2022-05-23T17:54:14.701077Z"
    }
   },
   "outputs": [],
   "source": [
    "array10k = ['갑', '을', '병', '정', '무', '기', '경', '신', '임', '계']\n",
    "array10 = ['甲', '乙', '丙', '丁', '戊', '己', '庚', '辛', '壬', '癸']\n",
    "array12k = ['자', '축', '인', '묘', '진', '사', '오', '미', '신', '유', '술', '해']\n",
    "array12 = ['子', '丑', '寅', '卯', '辰', '巳', '午', '未', '申', '酉', '戌', '亥']"
   ]
  },
  {
   "cell_type": "code",
   "execution_count": 4,
   "id": "219cf060",
   "metadata": {
    "ExecuteTime": {
     "end_time": "2022-05-23T17:54:14.734648Z",
     "start_time": "2022-05-23T17:54:14.719021Z"
    }
   },
   "outputs": [
    {
     "name": "stdout",
     "output_type": "stream",
     "text": [
      "year: 2022\n",
      "month: 5\n",
      "day: 24\n",
      "hour: 2\n",
      "minute: 54\n",
      "second: 14\n"
     ]
    }
   ],
   "source": [
    "tm = time.localtime(time.time())\n",
    "\n",
    "print(\"year:\", tm.tm_year)\n",
    "print(\"month:\", tm.tm_mon)\n",
    "print(\"day:\", tm.tm_mday)\n",
    "print(\"hour:\", tm.tm_hour)\n",
    "print(\"minute:\", tm.tm_min)\n",
    "print(\"second:\", tm.tm_sec)"
   ]
  },
  {
   "cell_type": "code",
   "execution_count": null,
   "id": "28eb5c62",
   "metadata": {},
   "outputs": [],
   "source": []
  },
  {
   "cell_type": "code",
   "execution_count": 5,
   "id": "52d9ed6a",
   "metadata": {
    "ExecuteTime": {
     "end_time": "2022-05-23T17:54:14.751686Z",
     "start_time": "2022-05-23T17:54:14.735481Z"
    }
   },
   "outputs": [],
   "source": [
    "y, m, d = 2018, 8, 18"
   ]
  },
  {
   "cell_type": "code",
   "execution_count": 6,
   "id": "e194b768",
   "metadata": {
    "ExecuteTime": {
     "end_time": "2022-05-23T17:54:14.767323Z",
     "start_time": "2022-05-23T17:54:14.751686Z"
    }
   },
   "outputs": [
    {
     "data": {
      "text/plain": [
       "time.struct_time(tm_year=2022, tm_mon=5, tm_mday=23, tm_hour=17, tm_min=54, tm_sec=14, tm_wday=0, tm_yday=143, tm_isdst=0)"
      ]
     },
     "execution_count": 6,
     "metadata": {},
     "output_type": "execute_result"
    }
   ],
   "source": [
    "time.gmtime()"
   ]
  },
  {
   "cell_type": "markdown",
   "id": "0358748e",
   "metadata": {
    "ExecuteTime": {
     "end_time": "2022-05-23T14:04:09.048312Z",
     "start_time": "2022-05-23T14:04:09.030742Z"
    }
   },
   "source": [
    "년지"
   ]
  },
  {
   "cell_type": "code",
   "execution_count": 7,
   "id": "2fbd5b1d",
   "metadata": {
    "ExecuteTime": {
     "end_time": "2022-05-23T17:54:14.783921Z",
     "start_time": "2022-05-23T17:54:14.768295Z"
    }
   },
   "outputs": [
    {
     "data": {
      "text/plain": [
       "('무', '술')"
      ]
     },
     "execution_count": 7,
     "metadata": {},
     "output_type": "execute_result"
    }
   ],
   "source": [
    "array10k[((y+7)%10)-1], array12k[((y+9)%12)-1]"
   ]
  },
  {
   "cell_type": "markdown",
   "id": "22f6abc0",
   "metadata": {},
   "source": [
    "월지"
   ]
  },
  {
   "cell_type": "code",
   "execution_count": 8,
   "id": "4c59d64f",
   "metadata": {
    "ExecuteTime": {
     "end_time": "2022-05-23T17:54:14.800605Z",
     "start_time": "2022-05-23T17:54:14.784979Z"
    }
   },
   "outputs": [
    {
     "data": {
      "text/plain": [
       "('경', '신')"
      ]
     },
     "execution_count": 8,
     "metadata": {},
     "output_type": "execute_result"
    }
   ],
   "source": [
    "array10k[(2*y+m+3)%10-1], array12k[(m+1)%12-1]"
   ]
  },
  {
   "cell_type": "markdown",
   "id": "55ab7ab5",
   "metadata": {},
   "source": [
    "일지"
   ]
  },
  {
   "cell_type": "code",
   "execution_count": 9,
   "id": "d203b728",
   "metadata": {
    "ExecuteTime": {
     "end_time": "2022-05-23T17:54:14.817812Z",
     "start_time": "2022-05-23T17:54:14.802024Z"
    }
   },
   "outputs": [],
   "source": [
    "c, n = int(str(y)[0:2]), int(str(y)[2:])"
   ]
  },
  {
   "cell_type": "code",
   "execution_count": 10,
   "id": "31fef968",
   "metadata": {
    "ExecuteTime": {
     "end_time": "2022-05-23T17:54:14.834012Z",
     "start_time": "2022-05-23T17:54:14.818379Z"
    }
   },
   "outputs": [],
   "source": [
    "p=(4*c+math.floor(c/4)+5*n+math.floor(n/4)+math.floor((3*m+3)/5)+d+7)%10"
   ]
  },
  {
   "cell_type": "code",
   "execution_count": 11,
   "id": "5a62666d",
   "metadata": {
    "ExecuteTime": {
     "end_time": "2022-05-23T17:54:14.850647Z",
     "start_time": "2022-05-23T17:54:14.835011Z"
    }
   },
   "outputs": [],
   "source": [
    "q = (8*c+math.floor(c/4)+5*n+math.floor(n/4)+6*m+math.floor((3*m+3)/5)+d+1)%12"
   ]
  },
  {
   "cell_type": "code",
   "execution_count": 12,
   "id": "83a8c409",
   "metadata": {
    "ExecuteTime": {
     "end_time": "2022-05-23T17:54:14.868295Z",
     "start_time": "2022-05-23T17:54:14.852090Z"
    }
   },
   "outputs": [
    {
     "data": {
      "text/plain": [
       "('임', '오')"
      ]
     },
     "execution_count": 12,
     "metadata": {},
     "output_type": "execute_result"
    }
   ],
   "source": [
    "array10k[p-1], array12k[q-1]"
   ]
  },
  {
   "cell_type": "code",
   "execution_count": null,
   "id": "f54ec360",
   "metadata": {},
   "outputs": [],
   "source": []
  },
  {
   "cell_type": "markdown",
   "id": "6bee79e3",
   "metadata": {},
   "source": [
    " \n",
    "\n",
    "2018년 8월18일의 일간과 일지를 구해보자.\n",
    "\n",
    "구하는 년을 y로 두고 월을 m 일을 d로 두자. (1583<y<3999)\n",
    "\n",
    "<주의사항>\n",
    "\n",
    "1)    1월,2월 에는 y에서 1을 빼고 이 값을 y로 한다.\n",
    "\n",
    "2)    1월은 m=13,2월은 m=14로 한다.\n"
   ]
  },
  {
   "cell_type": "code",
   "execution_count": null,
   "id": "2bffad0c",
   "metadata": {},
   "outputs": [],
   "source": []
  },
  {
   "cell_type": "code",
   "execution_count": null,
   "id": "ef9143de",
   "metadata": {},
   "outputs": [],
   "source": []
  },
  {
   "cell_type": "code",
   "execution_count": 108,
   "id": "8eaa672d",
   "metadata": {
    "ExecuteTime": {
     "end_time": "2022-05-23T18:19:07.744437Z",
     "start_time": "2022-05-23T18:19:07.724439Z"
    }
   },
   "outputs": [],
   "source": [
    "class Zodiac:\n",
    "\n",
    "    def __init__(self, y, m, d):\n",
    "        self.ten_k = ['갑', '을', '병', '정', '무', '기', '경', '신', '임', '계']\n",
    "        self.ten = ['甲', '乙', '丙', '丁', '戊', '己', '庚', '辛', '壬', '癸']\n",
    "        self.twv_k = ['자', '축', '인', '묘', '진', '사', '오', '미', '신', '유', '술', '해']\n",
    "        self.twv = ['子', '丑', '寅', '卯', '辰', '巳', '午', '未', '申', '酉', '戌', '亥']\n",
    "\n",
    "        if y < 1583:\n",
    "            print('EXCESS MINIMUM!!!')\n",
    "        elif y > 3999:\n",
    "            print('EXCESS MAXIMUM!!!')\n",
    "        else:\n",
    "            print(y, m, d)\n",
    "            if m == 1:\n",
    "                y = y-1\n",
    "                m = 13\n",
    "            elif m == 2:\n",
    "                y = y-1\n",
    "                m = 14\n",
    "            self.y, self.m, self.d = y, m, d\n",
    "\n",
    "    def i10w(self, i):\n",
    "        wk = self.ten_k[i-1]\n",
    "        w = self.ten[i-1]\n",
    "        return [wk, w]\n",
    "    \n",
    "    def i12w(self, i):\n",
    "        wk = self.twv_k[i-1]\n",
    "        w = self.twv[i-1]\n",
    "        return [wk, w]\n",
    "        \n",
    "    def zdc_y(self,):\n",
    "        y10 = (self.y+7)%10\n",
    "        y12 = (self.y+9)%12\n",
    "        return list(zip(self.i10w(y10), self.i12w(y12)))\n",
    "    \n",
    "    def zdc_m(self,):\n",
    "        m10 = (2*self.y+self.m+3)%10\n",
    "        m12 = (self.m+1)%12 \n",
    "        return list(zip(self.i10w(m10), self.i12w(m12)))\n",
    "    \n",
    "    def zdc_d(self,):\n",
    "        c, n = int(str(self.y)[0:2]), int(str(self.y)[2:])\n",
    "        d10 = (4*c+math.floor(c/4)+5*n+math.floor(n/4)+math.floor((3*self.m+3)/5)+self.d+7)%10\n",
    "        d12 = (8*c+math.floor(c/4)+5*n+math.floor(n/4)+6*self.m+math.floor((3*self.m+3)/5)+self.d+1)%12\n",
    "        return list(zip(self.i10w(d10), self.i12w(d12)))\n",
    "    \n",
    "    def display(self):\n",
    "        return self.zdc_y(), self.zdc_m(), self.zdc_d()\n",
    "    \n",
    "    def display_k(self):\n",
    "        return ''.join(self.zdc_y()[0])+'('+''.join(self.zdc_y()[1])+')'+'년, '+''.join(self.zdc_m()[0])+'('+''.join(self.zdc_m()[1])+')'+'월, '+''.join(self.zdc_d()[0])+'('+''.join(self.zdc_d()[1])+')'+'일'"
   ]
  },
  {
   "cell_type": "code",
   "execution_count": 136,
   "id": "cee1658a",
   "metadata": {
    "ExecuteTime": {
     "end_time": "2022-05-24T13:27:44.062978Z",
     "start_time": "2022-05-24T13:27:44.017815Z"
    }
   },
   "outputs": [
    {
     "name": "stdout",
     "output_type": "stream",
     "text": [
      "2022 1 1\n"
     ]
    }
   ],
   "source": [
    "a = Zodiac(2022, 1, 1)"
   ]
  },
  {
   "cell_type": "code",
   "execution_count": 137,
   "id": "9a4ea776",
   "metadata": {
    "ExecuteTime": {
     "end_time": "2022-05-24T13:27:44.172951Z",
     "start_time": "2022-05-24T13:27:44.158950Z"
    }
   },
   "outputs": [
    {
     "data": {
      "text/plain": [
       "([('신', '축'), ('辛', '丑')], [('신', '축'), ('辛', '丑')], [('갑', '인'), ('甲', '寅')])"
      ]
     },
     "execution_count": 137,
     "metadata": {},
     "output_type": "execute_result"
    }
   ],
   "source": [
    "a.display()"
   ]
  },
  {
   "cell_type": "code",
   "execution_count": 138,
   "id": "4b882176",
   "metadata": {
    "ExecuteTime": {
     "end_time": "2022-05-24T13:27:44.267460Z",
     "start_time": "2022-05-24T13:27:44.257950Z"
    }
   },
   "outputs": [
    {
     "data": {
      "text/plain": [
       "'신축(辛丑)년, 신축(辛丑)월, 갑인(甲寅)일'"
      ]
     },
     "execution_count": 138,
     "metadata": {},
     "output_type": "execute_result"
    }
   ],
   "source": [
    "a.display_k()"
   ]
  },
  {
   "cell_type": "code",
   "execution_count": null,
   "id": "a45cb1ec",
   "metadata": {},
   "outputs": [],
   "source": []
  },
  {
   "cell_type": "markdown",
   "id": "ef678229",
   "metadata": {},
   "source": [
    "확인된 문제:\n",
    "\n",
    "http://lifesci.net/pod/plugin/calendar/ < 이거랑 같음.\n",
    "\n",
    "\n",
    "이거랑은 다르게 나옴. 계산법이 더 있는것으로 보임.\n",
    "http://manse.sajuplus.net/\n",
    "https://astro.kasi.re.kr/life/pageView/8"
   ]
  },
  {
   "cell_type": "code",
   "execution_count": null,
   "id": "114779b4",
   "metadata": {},
   "outputs": [],
   "source": []
  }
 ],
 "metadata": {
  "kernelspec": {
   "display_name": "Python 3",
   "language": "python",
   "name": "python3"
  },
  "language_info": {
   "codemirror_mode": {
    "name": "ipython",
    "version": 3
   },
   "file_extension": ".py",
   "mimetype": "text/x-python",
   "name": "python",
   "nbconvert_exporter": "python",
   "pygments_lexer": "ipython3",
   "version": "3.8.8"
  },
  "toc": {
   "base_numbering": 1,
   "nav_menu": {},
   "number_sections": true,
   "sideBar": true,
   "skip_h1_title": false,
   "title_cell": "Table of Contents",
   "title_sidebar": "Contents",
   "toc_cell": false,
   "toc_position": {},
   "toc_section_display": true,
   "toc_window_display": false
  },
  "varInspector": {
   "cols": {
    "lenName": 16,
    "lenType": 16,
    "lenVar": 40
   },
   "kernels_config": {
    "python": {
     "delete_cmd_postfix": "",
     "delete_cmd_prefix": "del ",
     "library": "var_list.py",
     "varRefreshCmd": "print(var_dic_list())"
    },
    "r": {
     "delete_cmd_postfix": ") ",
     "delete_cmd_prefix": "rm(",
     "library": "var_list.r",
     "varRefreshCmd": "cat(var_dic_list()) "
    }
   },
   "types_to_exclude": [
    "module",
    "function",
    "builtin_function_or_method",
    "instance",
    "_Feature"
   ],
   "window_display": false
  }
 },
 "nbformat": 4,
 "nbformat_minor": 5
}
